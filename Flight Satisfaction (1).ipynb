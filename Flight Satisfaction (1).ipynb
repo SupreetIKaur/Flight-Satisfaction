{
 "cells": [
  {
   "cell_type": "code",
   "execution_count": 1,
   "metadata": {
    "execution": {
     "iopub.execute_input": "2023-08-26T11:03:55.560319Z",
     "iopub.status.busy": "2023-08-26T11:03:55.55989Z",
     "iopub.status.idle": "2023-08-26T11:03:57.967738Z",
     "shell.execute_reply": "2023-08-26T11:03:57.9667Z",
     "shell.execute_reply.started": "2023-08-26T11:03:55.560281Z"
    }
   },
   "outputs": [],
   "source": [
    "# Data Manipulation Libraries\n",
    "import numpy as np \n",
    "import pandas as pd \n",
    "\n",
    "# Data Visualization Libraries\n",
    "import seaborn as sns\n",
    "import matplotlib.pyplot as plt\n",
    "\n",
    "# Machine Learning Libraries\n",
    "from sklearn.preprocessing import LabelEncoder, StandardScaler\n",
    "from sklearn.model_selection import train_test_split, cross_val_score\n",
    "from sklearn.metrics import accuracy_score\n",
    "\n",
    "# Machine Learning Models\n",
    "from sklearn.linear_model import LogisticRegression  \n",
    "from sklearn.tree import DecisionTreeClassifier\n",
    "from sklearn.ensemble import RandomForestClassifier"
   ]
  },
  {
   "cell_type": "code",
   "execution_count": 2,
   "metadata": {
    "execution": {
     "iopub.execute_input": "2023-08-26T11:03:57.987385Z",
     "iopub.status.busy": "2023-08-26T11:03:57.986515Z",
     "iopub.status.idle": "2023-08-26T11:03:58.599508Z",
     "shell.execute_reply": "2023-08-26T11:03:58.59842Z",
     "shell.execute_reply.started": "2023-08-26T11:03:57.98734Z"
    }
   },
   "outputs": [
    {
     "data": {
      "text/html": [
       "<div>\n",
       "<style scoped>\n",
       "    .dataframe tbody tr th:only-of-type {\n",
       "        vertical-align: middle;\n",
       "    }\n",
       "\n",
       "    .dataframe tbody tr th {\n",
       "        vertical-align: top;\n",
       "    }\n",
       "\n",
       "    .dataframe thead th {\n",
       "        text-align: right;\n",
       "    }\n",
       "</style>\n",
       "<table border=\"1\" class=\"dataframe\">\n",
       "  <thead>\n",
       "    <tr style=\"text-align: right;\">\n",
       "      <th></th>\n",
       "      <th>satisfaction</th>\n",
       "      <th>Customer Type</th>\n",
       "      <th>Age</th>\n",
       "      <th>Type of Travel</th>\n",
       "      <th>Class</th>\n",
       "      <th>Flight Distance</th>\n",
       "      <th>Seat comfort</th>\n",
       "      <th>Departure/Arrival time convenient</th>\n",
       "      <th>Food and drink</th>\n",
       "      <th>Gate location</th>\n",
       "      <th>...</th>\n",
       "      <th>Online support</th>\n",
       "      <th>Ease of Online booking</th>\n",
       "      <th>On-board service</th>\n",
       "      <th>Leg room service</th>\n",
       "      <th>Baggage handling</th>\n",
       "      <th>Checkin service</th>\n",
       "      <th>Cleanliness</th>\n",
       "      <th>Online boarding</th>\n",
       "      <th>Departure Delay in Minutes</th>\n",
       "      <th>Arrival Delay in Minutes</th>\n",
       "    </tr>\n",
       "  </thead>\n",
       "  <tbody>\n",
       "    <tr>\n",
       "      <th>0</th>\n",
       "      <td>satisfied</td>\n",
       "      <td>Loyal Customer</td>\n",
       "      <td>65</td>\n",
       "      <td>Personal Travel</td>\n",
       "      <td>Eco</td>\n",
       "      <td>265</td>\n",
       "      <td>0</td>\n",
       "      <td>0</td>\n",
       "      <td>0</td>\n",
       "      <td>2</td>\n",
       "      <td>...</td>\n",
       "      <td>2</td>\n",
       "      <td>3</td>\n",
       "      <td>3</td>\n",
       "      <td>0</td>\n",
       "      <td>3</td>\n",
       "      <td>5</td>\n",
       "      <td>3</td>\n",
       "      <td>2</td>\n",
       "      <td>0</td>\n",
       "      <td>0.0</td>\n",
       "    </tr>\n",
       "    <tr>\n",
       "      <th>1</th>\n",
       "      <td>satisfied</td>\n",
       "      <td>Loyal Customer</td>\n",
       "      <td>47</td>\n",
       "      <td>Personal Travel</td>\n",
       "      <td>Business</td>\n",
       "      <td>2464</td>\n",
       "      <td>0</td>\n",
       "      <td>0</td>\n",
       "      <td>0</td>\n",
       "      <td>3</td>\n",
       "      <td>...</td>\n",
       "      <td>2</td>\n",
       "      <td>3</td>\n",
       "      <td>4</td>\n",
       "      <td>4</td>\n",
       "      <td>4</td>\n",
       "      <td>2</td>\n",
       "      <td>3</td>\n",
       "      <td>2</td>\n",
       "      <td>310</td>\n",
       "      <td>305.0</td>\n",
       "    </tr>\n",
       "    <tr>\n",
       "      <th>2</th>\n",
       "      <td>satisfied</td>\n",
       "      <td>Loyal Customer</td>\n",
       "      <td>15</td>\n",
       "      <td>Personal Travel</td>\n",
       "      <td>Eco</td>\n",
       "      <td>2138</td>\n",
       "      <td>0</td>\n",
       "      <td>0</td>\n",
       "      <td>0</td>\n",
       "      <td>3</td>\n",
       "      <td>...</td>\n",
       "      <td>2</td>\n",
       "      <td>2</td>\n",
       "      <td>3</td>\n",
       "      <td>3</td>\n",
       "      <td>4</td>\n",
       "      <td>4</td>\n",
       "      <td>4</td>\n",
       "      <td>2</td>\n",
       "      <td>0</td>\n",
       "      <td>0.0</td>\n",
       "    </tr>\n",
       "    <tr>\n",
       "      <th>3</th>\n",
       "      <td>satisfied</td>\n",
       "      <td>Loyal Customer</td>\n",
       "      <td>60</td>\n",
       "      <td>Personal Travel</td>\n",
       "      <td>Eco</td>\n",
       "      <td>623</td>\n",
       "      <td>0</td>\n",
       "      <td>0</td>\n",
       "      <td>0</td>\n",
       "      <td>3</td>\n",
       "      <td>...</td>\n",
       "      <td>3</td>\n",
       "      <td>1</td>\n",
       "      <td>1</td>\n",
       "      <td>0</td>\n",
       "      <td>1</td>\n",
       "      <td>4</td>\n",
       "      <td>1</td>\n",
       "      <td>3</td>\n",
       "      <td>0</td>\n",
       "      <td>0.0</td>\n",
       "    </tr>\n",
       "    <tr>\n",
       "      <th>4</th>\n",
       "      <td>satisfied</td>\n",
       "      <td>Loyal Customer</td>\n",
       "      <td>70</td>\n",
       "      <td>Personal Travel</td>\n",
       "      <td>Eco</td>\n",
       "      <td>354</td>\n",
       "      <td>0</td>\n",
       "      <td>0</td>\n",
       "      <td>0</td>\n",
       "      <td>3</td>\n",
       "      <td>...</td>\n",
       "      <td>4</td>\n",
       "      <td>2</td>\n",
       "      <td>2</td>\n",
       "      <td>0</td>\n",
       "      <td>2</td>\n",
       "      <td>4</td>\n",
       "      <td>2</td>\n",
       "      <td>5</td>\n",
       "      <td>0</td>\n",
       "      <td>0.0</td>\n",
       "    </tr>\n",
       "  </tbody>\n",
       "</table>\n",
       "<p>5 rows × 22 columns</p>\n",
       "</div>"
      ],
      "text/plain": [
       "  satisfaction   Customer Type  Age   Type of Travel     Class  \\\n",
       "0    satisfied  Loyal Customer   65  Personal Travel       Eco   \n",
       "1    satisfied  Loyal Customer   47  Personal Travel  Business   \n",
       "2    satisfied  Loyal Customer   15  Personal Travel       Eco   \n",
       "3    satisfied  Loyal Customer   60  Personal Travel       Eco   \n",
       "4    satisfied  Loyal Customer   70  Personal Travel       Eco   \n",
       "\n",
       "   Flight Distance  Seat comfort  Departure/Arrival time convenient  \\\n",
       "0              265             0                                  0   \n",
       "1             2464             0                                  0   \n",
       "2             2138             0                                  0   \n",
       "3              623             0                                  0   \n",
       "4              354             0                                  0   \n",
       "\n",
       "   Food and drink  Gate location  ...  Online support  Ease of Online booking  \\\n",
       "0               0              2  ...               2                       3   \n",
       "1               0              3  ...               2                       3   \n",
       "2               0              3  ...               2                       2   \n",
       "3               0              3  ...               3                       1   \n",
       "4               0              3  ...               4                       2   \n",
       "\n",
       "   On-board service  Leg room service  Baggage handling  Checkin service  \\\n",
       "0                 3                 0                 3                5   \n",
       "1                 4                 4                 4                2   \n",
       "2                 3                 3                 4                4   \n",
       "3                 1                 0                 1                4   \n",
       "4                 2                 0                 2                4   \n",
       "\n",
       "   Cleanliness  Online boarding  Departure Delay in Minutes  \\\n",
       "0            3                2                           0   \n",
       "1            3                2                         310   \n",
       "2            4                2                           0   \n",
       "3            1                3                           0   \n",
       "4            2                5                           0   \n",
       "\n",
       "   Arrival Delay in Minutes  \n",
       "0                       0.0  \n",
       "1                     305.0  \n",
       "2                       0.0  \n",
       "3                       0.0  \n",
       "4                       0.0  \n",
       "\n",
       "[5 rows x 22 columns]"
      ]
     },
     "execution_count": 2,
     "metadata": {},
     "output_type": "execute_result"
    }
   ],
   "source": [
    "# Load tha data.\n",
    "df = pd.read_csv(r\"C:\\Users\\this pc\\Downloads\\archive (25)\\Invistico_Airline.csv\")\n",
    "df.head()"
   ]
  },
  {
   "cell_type": "markdown",
   "metadata": {},
   "source": [
    "# preparation the train data"
   ]
  },
  {
   "cell_type": "code",
   "execution_count": 3,
   "metadata": {
    "execution": {
     "iopub.execute_input": "2023-08-26T11:03:58.603221Z",
     "iopub.status.busy": "2023-08-26T11:03:58.602117Z",
     "iopub.status.idle": "2023-08-26T11:03:58.611507Z",
     "shell.execute_reply": "2023-08-26T11:03:58.610115Z",
     "shell.execute_reply.started": "2023-08-26T11:03:58.603183Z"
    }
   },
   "outputs": [
    {
     "data": {
      "text/plain": [
       "(129880, 22)"
      ]
     },
     "execution_count": 3,
     "metadata": {},
     "output_type": "execute_result"
    }
   ],
   "source": [
    "# Seeing the shape of the data.\n",
    "df.shape"
   ]
  },
  {
   "cell_type": "code",
   "execution_count": 4,
   "metadata": {
    "execution": {
     "iopub.execute_input": "2023-08-26T11:03:58.613347Z",
     "iopub.status.busy": "2023-08-26T11:03:58.612892Z",
     "iopub.status.idle": "2023-08-26T11:03:58.751323Z",
     "shell.execute_reply": "2023-08-26T11:03:58.750003Z",
     "shell.execute_reply.started": "2023-08-26T11:03:58.61327Z"
    }
   },
   "outputs": [
    {
     "data": {
      "text/plain": [
       "0"
      ]
     },
     "execution_count": 4,
     "metadata": {},
     "output_type": "execute_result"
    }
   ],
   "source": [
    "# Seeing if there are dublicated.\n",
    "df.duplicated().sum()"
   ]
  },
  {
   "cell_type": "code",
   "execution_count": 5,
   "metadata": {
    "execution": {
     "iopub.execute_input": "2023-08-26T11:03:58.753953Z",
     "iopub.status.busy": "2023-08-26T11:03:58.753182Z",
     "iopub.status.idle": "2023-08-26T11:03:59.012576Z",
     "shell.execute_reply": "2023-08-26T11:03:59.011425Z",
     "shell.execute_reply.started": "2023-08-26T11:03:58.75391Z"
    }
   },
   "outputs": [
    {
     "data": {
      "text/plain": [
       "satisfaction                           0\n",
       "Customer Type                          0\n",
       "Age                                    0\n",
       "Type of Travel                         0\n",
       "Class                                  0\n",
       "Flight Distance                        0\n",
       "Seat comfort                           0\n",
       "Departure/Arrival time convenient      0\n",
       "Food and drink                         0\n",
       "Gate location                          0\n",
       "Inflight wifi service                  0\n",
       "Inflight entertainment                 0\n",
       "Online support                         0\n",
       "Ease of Online booking                 0\n",
       "On-board service                       0\n",
       "Leg room service                       0\n",
       "Baggage handling                       0\n",
       "Checkin service                        0\n",
       "Cleanliness                            0\n",
       "Online boarding                        0\n",
       "Departure Delay in Minutes             0\n",
       "Arrival Delay in Minutes             393\n",
       "dtype: int64"
      ]
     },
     "execution_count": 5,
     "metadata": {},
     "output_type": "execute_result"
    }
   ],
   "source": [
    "# seeing if there are null values.\n",
    "df.isna().sum()"
   ]
  },
  {
   "cell_type": "code",
   "execution_count": 6,
   "metadata": {
    "execution": {
     "iopub.execute_input": "2023-08-26T11:03:59.01474Z",
     "iopub.status.busy": "2023-08-26T11:03:59.014305Z",
     "iopub.status.idle": "2023-08-26T11:03:59.246565Z",
     "shell.execute_reply": "2023-08-26T11:03:59.245358Z",
     "shell.execute_reply.started": "2023-08-26T11:03:59.0147Z"
    }
   },
   "outputs": [
    {
     "name": "stdout",
     "output_type": "stream",
     "text": [
      "<class 'pandas.core.frame.DataFrame'>\n",
      "RangeIndex: 129880 entries, 0 to 129879\n",
      "Data columns (total 22 columns):\n",
      " #   Column                             Non-Null Count   Dtype  \n",
      "---  ------                             --------------   -----  \n",
      " 0   satisfaction                       129880 non-null  object \n",
      " 1   Customer Type                      129880 non-null  object \n",
      " 2   Age                                129880 non-null  int64  \n",
      " 3   Type of Travel                     129880 non-null  object \n",
      " 4   Class                              129880 non-null  object \n",
      " 5   Flight Distance                    129880 non-null  int64  \n",
      " 6   Seat comfort                       129880 non-null  int64  \n",
      " 7   Departure/Arrival time convenient  129880 non-null  int64  \n",
      " 8   Food and drink                     129880 non-null  int64  \n",
      " 9   Gate location                      129880 non-null  int64  \n",
      " 10  Inflight wifi service              129880 non-null  int64  \n",
      " 11  Inflight entertainment             129880 non-null  int64  \n",
      " 12  Online support                     129880 non-null  int64  \n",
      " 13  Ease of Online booking             129880 non-null  int64  \n",
      " 14  On-board service                   129880 non-null  int64  \n",
      " 15  Leg room service                   129880 non-null  int64  \n",
      " 16  Baggage handling                   129880 non-null  int64  \n",
      " 17  Checkin service                    129880 non-null  int64  \n",
      " 18  Cleanliness                        129880 non-null  int64  \n",
      " 19  Online boarding                    129880 non-null  int64  \n",
      " 20  Departure Delay in Minutes         129880 non-null  int64  \n",
      " 21  Arrival Delay in Minutes           129487 non-null  float64\n",
      "dtypes: float64(1), int64(17), object(4)\n",
      "memory usage: 21.8+ MB\n"
     ]
    }
   ],
   "source": [
    "# Seeing information about data.\n",
    "df.info()"
   ]
  },
  {
   "cell_type": "code",
   "execution_count": 7,
   "metadata": {
    "execution": {
     "iopub.execute_input": "2023-08-26T11:03:59.249018Z",
     "iopub.status.busy": "2023-08-26T11:03:59.248616Z",
     "iopub.status.idle": "2023-08-26T11:03:59.402149Z",
     "shell.execute_reply": "2023-08-26T11:03:59.400932Z",
     "shell.execute_reply.started": "2023-08-26T11:03:59.24898Z"
    }
   },
   "outputs": [
    {
     "name": "stdout",
     "output_type": "stream",
     "text": [
      "satisfied       71087\n",
      "dissatisfied    58793\n",
      "Name: satisfaction, dtype: int64\n",
      "--------------------------------------------------\n",
      "Loyal Customer       106100\n",
      "disloyal Customer     23780\n",
      "Name: Customer Type, dtype: int64\n",
      "--------------------------------------------------\n",
      "Business travel    89693\n",
      "Personal Travel    40187\n",
      "Name: Type of Travel, dtype: int64\n",
      "--------------------------------------------------\n",
      "Business    62160\n",
      "Eco         58309\n",
      "Eco Plus     9411\n",
      "Name: Class, dtype: int64\n",
      "--------------------------------------------------\n",
      "3    29183\n",
      "2    28726\n",
      "4    28398\n",
      "1    20949\n",
      "5    17827\n",
      "0     4797\n",
      "Name: Seat comfort, dtype: int64\n",
      "--------------------------------------------------\n",
      "4    29593\n",
      "5    26817\n",
      "3    23184\n",
      "2    22794\n",
      "1    20828\n",
      "0     6664\n",
      "Name: Departure/Arrival time convenient, dtype: int64\n",
      "--------------------------------------------------\n",
      "3    28150\n",
      "4    27216\n",
      "2    27146\n",
      "1    21076\n",
      "5    20347\n",
      "0     5945\n",
      "Name: Food and drink, dtype: int64\n",
      "--------------------------------------------------\n",
      "3    33546\n",
      "4    30088\n",
      "2    24518\n",
      "1    22565\n",
      "5    19161\n",
      "0        2\n",
      "Name: Gate location, dtype: int64\n",
      "--------------------------------------------------\n",
      "4    31560\n",
      "5    28830\n",
      "3    27602\n",
      "2    27045\n",
      "1    14711\n",
      "0      132\n",
      "Name: Inflight wifi service, dtype: int64\n",
      "--------------------------------------------------\n",
      "4    41879\n",
      "5    29831\n",
      "3    24200\n",
      "2    19183\n",
      "1    11809\n",
      "0     2978\n",
      "Name: Inflight entertainment, dtype: int64\n",
      "--------------------------------------------------\n",
      "4    41510\n",
      "5    35563\n",
      "3    21609\n",
      "2    17260\n",
      "1    13937\n",
      "0        1\n",
      "Name: Online support, dtype: int64\n",
      "--------------------------------------------------\n",
      "4    39920\n",
      "5    34137\n",
      "3    22418\n",
      "2    19951\n",
      "1    13436\n",
      "0       18\n",
      "Name: Ease of Online booking, dtype: int64\n",
      "--------------------------------------------------\n",
      "4    40675\n",
      "5    31724\n",
      "3    27037\n",
      "2    17174\n",
      "1    13265\n",
      "0        5\n",
      "Name: On-board service, dtype: int64\n",
      "--------------------------------------------------\n",
      "4    39698\n",
      "5    34385\n",
      "3    22467\n",
      "2    21745\n",
      "1    11141\n",
      "0      444\n",
      "Name: Leg room service, dtype: int64\n",
      "--------------------------------------------------\n",
      "4    48240\n",
      "5    35748\n",
      "3    24485\n",
      "2    13432\n",
      "1     7975\n",
      "Name: Baggage handling, dtype: int64\n",
      "--------------------------------------------------\n",
      "4    36481\n",
      "3    35538\n",
      "5    27005\n",
      "2    15486\n",
      "1    15369\n",
      "0        1\n",
      "Name: Checkin service, dtype: int64\n",
      "--------------------------------------------------\n",
      "4    48795\n",
      "5    35916\n",
      "3    23984\n",
      "2    13412\n",
      "1     7768\n",
      "0        5\n",
      "Name: Cleanliness, dtype: int64\n",
      "--------------------------------------------------\n",
      "4    35181\n",
      "3    30780\n",
      "5    29973\n",
      "2    18573\n",
      "1    15359\n",
      "0       14\n",
      "Name: Online boarding, dtype: int64\n",
      "--------------------------------------------------\n"
     ]
    }
   ],
   "source": [
    "categorical_features = ['satisfaction', 'Customer Type', 'Type of Travel', 'Class', 'Seat comfort',\n",
    "                       'Departure/Arrival time convenient', 'Food and drink', 'Gate location',\n",
    "                       'Inflight wifi service', 'Inflight entertainment', 'Online support',\n",
    "                       'Ease of Online booking', 'On-board service', 'Leg room service',\n",
    "                       'Baggage handling', 'Checkin service', 'Cleanliness', 'Online boarding']\n",
    "\n",
    "for i in categorical_features:\n",
    "    print(df[i].value_counts())\n",
    "    print('-' * 50)"
   ]
  },
  {
   "cell_type": "code",
   "execution_count": 8,
   "metadata": {
    "execution": {
     "iopub.execute_input": "2023-08-26T11:03:59.404052Z",
     "iopub.status.busy": "2023-08-26T11:03:59.403619Z",
     "iopub.status.idle": "2023-08-26T11:04:00.941389Z",
     "shell.execute_reply": "2023-08-26T11:04:00.940516Z",
     "shell.execute_reply.started": "2023-08-26T11:03:59.403953Z"
    }
   },
   "outputs": [],
   "source": [
    "# Define a mapping dictionary to combine the clusters\n",
    "cluster_mapping = {\n",
    "    'Seat comfort': {0: 1},\n",
    "    'Departure/Arrival time convenient': {0: 1},\n",
    "    'Food and drink': {0: 1},\n",
    "    'Gate location': {0: 1},\n",
    "    'Inflight wifi service': {0: 1},\n",
    "    'Inflight entertainment': {0: 1},\n",
    "    'Online support': {0: 1},\n",
    "    'Ease of Online booking': {0: 1},\n",
    "    'On-board service': {0: 1},\n",
    "    'Leg room service': {0: 1},\n",
    "    'Baggage handling': {0: 1},\n",
    "    'Checkin service': {0: 1},\n",
    "    'Cleanliness': {0: 1},\n",
    "    'Online boarding': {0: 1}\n",
    "}\n",
    "\n",
    "# Update the specified columns with the new cluster labels using applymap\n",
    "for col, mapping in cluster_mapping.items():\n",
    "    df[col] = df[col].apply(lambda x: mapping.get(x, x))"
   ]
  },
  {
   "cell_type": "code",
   "execution_count": 9,
   "metadata": {
    "execution": {
     "iopub.execute_input": "2023-08-26T11:04:00.947103Z",
     "iopub.status.busy": "2023-08-26T11:04:00.945411Z",
     "iopub.status.idle": "2023-08-26T11:04:00.978649Z",
     "shell.execute_reply": "2023-08-26T11:04:00.976161Z",
     "shell.execute_reply.started": "2023-08-26T11:04:00.947055Z"
    }
   },
   "outputs": [
    {
     "name": "stdout",
     "output_type": "stream",
     "text": [
      "3    33546\n",
      "4    30088\n",
      "2    24518\n",
      "1    22567\n",
      "5    19161\n",
      "Name: Gate location, dtype: int64\n",
      "--------------------------------------------------\n",
      "4    31560\n",
      "5    28830\n",
      "3    27602\n",
      "2    27045\n",
      "1    14843\n",
      "Name: Inflight wifi service, dtype: int64\n",
      "--------------------------------------------------\n",
      "4    41510\n",
      "5    35563\n",
      "3    21609\n",
      "2    17260\n",
      "1    13938\n",
      "Name: Online support, dtype: int64\n",
      "--------------------------------------------------\n",
      "4    39920\n",
      "5    34137\n",
      "3    22418\n",
      "2    19951\n",
      "1    13454\n",
      "Name: Ease of Online booking, dtype: int64\n",
      "--------------------------------------------------\n",
      "4    40675\n",
      "5    31724\n",
      "3    27037\n",
      "2    17174\n",
      "1    13270\n",
      "Name: On-board service, dtype: int64\n",
      "--------------------------------------------------\n",
      "4    39698\n",
      "5    34385\n",
      "3    22467\n",
      "2    21745\n",
      "1    11585\n",
      "Name: Leg room service, dtype: int64\n",
      "--------------------------------------------------\n",
      "4    36481\n",
      "3    35538\n",
      "5    27005\n",
      "2    15486\n",
      "1    15370\n",
      "Name: Checkin service, dtype: int64\n",
      "--------------------------------------------------\n",
      "4    48795\n",
      "5    35916\n",
      "3    23984\n",
      "2    13412\n",
      "1     7773\n",
      "Name: Cleanliness, dtype: int64\n",
      "--------------------------------------------------\n",
      "4    35181\n",
      "3    30780\n",
      "5    29973\n",
      "2    18573\n",
      "1    15373\n",
      "Name: Online boarding, dtype: int64\n",
      "--------------------------------------------------\n"
     ]
    }
   ],
   "source": [
    "# Check if the rating features have a rate from 1 to 5 was done correctly\n",
    "for i in ['Gate location', 'Inflight wifi service', 'Online support', 'Ease of Online booking', \n",
    "          'On-board service', 'Leg room service', 'Checkin service', 'Cleanliness', 'Online boarding']:\n",
    "    print(df[i].value_counts())\n",
    "    print('-' * 50)"
   ]
  },
  {
   "cell_type": "code",
   "execution_count": 10,
   "metadata": {
    "execution": {
     "iopub.execute_input": "2023-08-26T11:04:00.981727Z",
     "iopub.status.busy": "2023-08-26T11:04:00.981028Z",
     "iopub.status.idle": "2023-08-26T11:04:00.993571Z",
     "shell.execute_reply": "2023-08-26T11:04:00.992035Z",
     "shell.execute_reply.started": "2023-08-26T11:04:00.981683Z"
    }
   },
   "outputs": [],
   "source": [
    "# Numerical columns\n",
    "numerical_features = [\"Age\", \"Flight Distance\", \"Departure Delay in Minutes\", 'Arrival Delay in Minutes']"
   ]
  },
  {
   "cell_type": "code",
   "execution_count": 11,
   "metadata": {
    "execution": {
     "iopub.execute_input": "2023-08-26T11:04:00.995943Z",
     "iopub.status.busy": "2023-08-26T11:04:00.995268Z",
     "iopub.status.idle": "2023-08-26T11:04:01.456055Z",
     "shell.execute_reply": "2023-08-26T11:04:01.454824Z",
     "shell.execute_reply.started": "2023-08-26T11:04:00.995899Z"
    }
   },
   "outputs": [
    {
     "data": {
      "image/png": "[encoded data removed]",
      "text/plain": [
       "<Figure size 800x600 with 2 Axes>"
      ]
     },
     "metadata": {},
     "output_type": "display_data"
    }
   ],
   "source": [
    "plt.figure(figsize=(8, 6))\n",
    "\n",
    "# Calculate the correlation matrix for the numerical columns\n",
    "correlation_matrix = df[numerical_features].corr()\n",
    "\n",
    "# Create a heatmap using the correlation matrix\n",
    "sns.heatmap(correlation_matrix, annot=True, cmap='coolwarm')\n",
    "\n",
    "# Set the title of the heatmap\n",
    "plt.title('Correlation Heatmap')\n",
    "\n",
    "# Display the heatmap\n",
    "plt.show()"
   ]
  },
  {
   "cell_type": "markdown",
   "metadata": {},
   "source": [
    "It is evident that there is an extremely strong correlation of 0.97 between \"Departure Delay in Minutes\" and 'Arrival Delay in Minutes'. This high correlation suggests that these two variables essentially represent the same information, and therefore, it is advisable to eliminate one of them. Given that 'Arrival Delay in Minutes' also contains missing values, we have decided to proceed with the removal of this variable. This simplification will streamline our analysis while retaining the essential information.\n"
   ]
  },
  {
   "cell_type": "code",
   "execution_count": 12,
   "metadata": {
    "execution": {
     "iopub.execute_input": "2023-08-26T11:04:01.457794Z",
     "iopub.status.busy": "2023-08-26T11:04:01.45727Z",
     "iopub.status.idle": "2023-08-26T11:04:01.472638Z",
     "shell.execute_reply": "2023-08-26T11:04:01.47114Z",
     "shell.execute_reply.started": "2023-08-26T11:04:01.457744Z"
    }
   },
   "outputs": [],
   "source": [
    "# Drop the 'Arrival Delay in Minutes' column from the dataframe\n",
    "df.drop('Arrival Delay in Minutes', axis=1, inplace=True)"
   ]
  },
  {
   "cell_type": "markdown",
   "metadata": {},
   "source": [
    "# Data preprocessing"
   ]
  },
  {
   "cell_type": "markdown",
   "metadata": {},
   "source": [
    "### Split the data"
   ]
  },
  {
   "cell_type": "code",
   "execution_count": 13,
   "metadata": {
    "execution": {
     "iopub.execute_input": "2023-08-26T11:04:41.080501Z",
     "iopub.status.busy": "2023-08-26T11:04:41.080141Z",
     "iopub.status.idle": "2023-08-26T11:04:41.098784Z",
     "shell.execute_reply": "2023-08-26T11:04:41.097609Z",
     "shell.execute_reply.started": "2023-08-26T11:04:41.080469Z"
    }
   },
   "outputs": [],
   "source": [
    "# Split data into x and y.\n",
    "X = df.drop(\"satisfaction\", axis=1)\n",
    "y = df[\"satisfaction\"]\n"
   ]
  },
  {
   "cell_type": "code",
   "execution_count": 14,
   "metadata": {},
   "outputs": [
    {
     "data": {
      "text/plain": [
       "Index(['Customer Type', 'Age', 'Type of Travel', 'Class', 'Flight Distance',\n",
       "       'Seat comfort', 'Departure/Arrival time convenient', 'Food and drink',\n",
       "       'Gate location', 'Inflight wifi service', 'Inflight entertainment',\n",
       "       'Online support', 'Ease of Online booking', 'On-board service',\n",
       "       'Leg room service', 'Baggage handling', 'Checkin service',\n",
       "       'Cleanliness', 'Online boarding', 'Departure Delay in Minutes'],\n",
       "      dtype='object')"
      ]
     },
     "execution_count": 14,
     "metadata": {},
     "output_type": "execute_result"
    }
   ],
   "source": [
    "X.columns"
   ]
  },
  {
   "cell_type": "markdown",
   "metadata": {},
   "source": [
    "### Encoding and scalling the data"
   ]
  },
  {
   "cell_type": "code",
   "execution_count": 15,
   "metadata": {
    "execution": {
     "iopub.execute_input": "2023-08-26T11:04:41.100534Z",
     "iopub.status.busy": "2023-08-26T11:04:41.100174Z",
     "iopub.status.idle": "2023-08-26T11:04:41.290157Z",
     "shell.execute_reply": "2023-08-26T11:04:41.289118Z",
     "shell.execute_reply.started": "2023-08-26T11:04:41.100496Z"
    }
   },
   "outputs": [],
   "source": [
    "# One hot Endocing .\n",
    "X = pd.get_dummies(X, columns=['Class'])\n",
    "\n",
    "# Label Encoding.\n",
    "label_encoder = LabelEncoder()\n",
    "for i in ['Customer Type', 'Type of Travel']:\n",
    "    X[i] = label_encoder.fit_transform(X[i])"
   ]
  },
  {
   "cell_type": "code",
   "execution_count": 16,
   "metadata": {
    "execution": {
     "iopub.execute_input": "2023-08-26T11:04:41.29234Z",
     "iopub.status.busy": "2023-08-26T11:04:41.291664Z",
     "iopub.status.idle": "2023-08-26T11:04:41.352315Z",
     "shell.execute_reply": "2023-08-26T11:04:41.35096Z",
     "shell.execute_reply.started": "2023-08-26T11:04:41.292304Z"
    }
   },
   "outputs": [
    {
     "data": {
      "text/html": [
       "<div>\n",
       "<style scoped>\n",
       "    .dataframe tbody tr th:only-of-type {\n",
       "        vertical-align: middle;\n",
       "    }\n",
       "\n",
       "    .dataframe tbody tr th {\n",
       "        vertical-align: top;\n",
       "    }\n",
       "\n",
       "    .dataframe thead th {\n",
       "        text-align: right;\n",
       "    }\n",
       "</style>\n",
       "<table border=\"1\" class=\"dataframe\">\n",
       "  <thead>\n",
       "    <tr style=\"text-align: right;\">\n",
       "      <th></th>\n",
       "      <th>Customer Type</th>\n",
       "      <th>Age</th>\n",
       "      <th>Type of Travel</th>\n",
       "      <th>Flight Distance</th>\n",
       "      <th>Seat comfort</th>\n",
       "      <th>Departure/Arrival time convenient</th>\n",
       "      <th>Food and drink</th>\n",
       "      <th>Gate location</th>\n",
       "      <th>Inflight wifi service</th>\n",
       "      <th>Inflight entertainment</th>\n",
       "      <th>...</th>\n",
       "      <th>On-board service</th>\n",
       "      <th>Leg room service</th>\n",
       "      <th>Baggage handling</th>\n",
       "      <th>Checkin service</th>\n",
       "      <th>Cleanliness</th>\n",
       "      <th>Online boarding</th>\n",
       "      <th>Departure Delay in Minutes</th>\n",
       "      <th>Class_Business</th>\n",
       "      <th>Class_Eco</th>\n",
       "      <th>Class_Eco Plus</th>\n",
       "    </tr>\n",
       "  </thead>\n",
       "  <tbody>\n",
       "    <tr>\n",
       "      <th>0</th>\n",
       "      <td>0</td>\n",
       "      <td>1.691351</td>\n",
       "      <td>1</td>\n",
       "      <td>-1.671103</td>\n",
       "      <td>1</td>\n",
       "      <td>1</td>\n",
       "      <td>1</td>\n",
       "      <td>2</td>\n",
       "      <td>2</td>\n",
       "      <td>4</td>\n",
       "      <td>...</td>\n",
       "      <td>3</td>\n",
       "      <td>1</td>\n",
       "      <td>3</td>\n",
       "      <td>5</td>\n",
       "      <td>3</td>\n",
       "      <td>2</td>\n",
       "      <td>-0.386481</td>\n",
       "      <td>0</td>\n",
       "      <td>1</td>\n",
       "      <td>0</td>\n",
       "    </tr>\n",
       "    <tr>\n",
       "      <th>1</th>\n",
       "      <td>0</td>\n",
       "      <td>0.500820</td>\n",
       "      <td>1</td>\n",
       "      <td>0.469852</td>\n",
       "      <td>1</td>\n",
       "      <td>1</td>\n",
       "      <td>1</td>\n",
       "      <td>3</td>\n",
       "      <td>1</td>\n",
       "      <td>2</td>\n",
       "      <td>...</td>\n",
       "      <td>4</td>\n",
       "      <td>4</td>\n",
       "      <td>4</td>\n",
       "      <td>2</td>\n",
       "      <td>3</td>\n",
       "      <td>2</td>\n",
       "      <td>7.756204</td>\n",
       "      <td>1</td>\n",
       "      <td>0</td>\n",
       "      <td>0</td>\n",
       "    </tr>\n",
       "    <tr>\n",
       "      <th>2</th>\n",
       "      <td>0</td>\n",
       "      <td>-1.615680</td>\n",
       "      <td>1</td>\n",
       "      <td>0.152458</td>\n",
       "      <td>1</td>\n",
       "      <td>1</td>\n",
       "      <td>1</td>\n",
       "      <td>3</td>\n",
       "      <td>2</td>\n",
       "      <td>1</td>\n",
       "      <td>...</td>\n",
       "      <td>3</td>\n",
       "      <td>3</td>\n",
       "      <td>4</td>\n",
       "      <td>4</td>\n",
       "      <td>4</td>\n",
       "      <td>2</td>\n",
       "      <td>-0.386481</td>\n",
       "      <td>0</td>\n",
       "      <td>1</td>\n",
       "      <td>0</td>\n",
       "    </tr>\n",
       "    <tr>\n",
       "      <th>3</th>\n",
       "      <td>0</td>\n",
       "      <td>1.360648</td>\n",
       "      <td>1</td>\n",
       "      <td>-1.322552</td>\n",
       "      <td>1</td>\n",
       "      <td>1</td>\n",
       "      <td>1</td>\n",
       "      <td>3</td>\n",
       "      <td>3</td>\n",
       "      <td>4</td>\n",
       "      <td>...</td>\n",
       "      <td>1</td>\n",
       "      <td>1</td>\n",
       "      <td>1</td>\n",
       "      <td>4</td>\n",
       "      <td>1</td>\n",
       "      <td>3</td>\n",
       "      <td>-0.386481</td>\n",
       "      <td>0</td>\n",
       "      <td>1</td>\n",
       "      <td>0</td>\n",
       "    </tr>\n",
       "    <tr>\n",
       "      <th>4</th>\n",
       "      <td>0</td>\n",
       "      <td>2.022054</td>\n",
       "      <td>1</td>\n",
       "      <td>-1.584452</td>\n",
       "      <td>1</td>\n",
       "      <td>1</td>\n",
       "      <td>1</td>\n",
       "      <td>3</td>\n",
       "      <td>4</td>\n",
       "      <td>3</td>\n",
       "      <td>...</td>\n",
       "      <td>2</td>\n",
       "      <td>1</td>\n",
       "      <td>2</td>\n",
       "      <td>4</td>\n",
       "      <td>2</td>\n",
       "      <td>5</td>\n",
       "      <td>-0.386481</td>\n",
       "      <td>0</td>\n",
       "      <td>1</td>\n",
       "      <td>0</td>\n",
       "    </tr>\n",
       "  </tbody>\n",
       "</table>\n",
       "<p>5 rows × 22 columns</p>\n",
       "</div>"
      ],
      "text/plain": [
       "   Customer Type       Age  Type of Travel  Flight Distance  Seat comfort  \\\n",
       "0              0  1.691351               1        -1.671103             1   \n",
       "1              0  0.500820               1         0.469852             1   \n",
       "2              0 -1.615680               1         0.152458             1   \n",
       "3              0  1.360648               1        -1.322552             1   \n",
       "4              0  2.022054               1        -1.584452             1   \n",
       "\n",
       "   Departure/Arrival time convenient  Food and drink  Gate location  \\\n",
       "0                                  1               1              2   \n",
       "1                                  1               1              3   \n",
       "2                                  1               1              3   \n",
       "3                                  1               1              3   \n",
       "4                                  1               1              3   \n",
       "\n",
       "   Inflight wifi service  Inflight entertainment  ...  On-board service  \\\n",
       "0                      2                       4  ...                 3   \n",
       "1                      1                       2  ...                 4   \n",
       "2                      2                       1  ...                 3   \n",
       "3                      3                       4  ...                 1   \n",
       "4                      4                       3  ...                 2   \n",
       "\n",
       "   Leg room service  Baggage handling  Checkin service  Cleanliness  \\\n",
       "0                 1                 3                5            3   \n",
       "1                 4                 4                2            3   \n",
       "2                 3                 4                4            4   \n",
       "3                 1                 1                4            1   \n",
       "4                 1                 2                4            2   \n",
       "\n",
       "   Online boarding  Departure Delay in Minutes  Class_Business  Class_Eco  \\\n",
       "0                2                   -0.386481               0          1   \n",
       "1                2                    7.756204               1          0   \n",
       "2                2                   -0.386481               0          1   \n",
       "3                3                   -0.386481               0          1   \n",
       "4                5                   -0.386481               0          1   \n",
       "\n",
       "   Class_Eco Plus  \n",
       "0               0  \n",
       "1               0  \n",
       "2               0  \n",
       "3               0  \n",
       "4               0  \n",
       "\n",
       "[5 rows x 22 columns]"
      ]
     },
     "execution_count": 16,
     "metadata": {},
     "output_type": "execute_result"
    }
   ],
   "source": [
    "# Select the features you want to scale\n",
    "selected_features = X[[\"Age\", \"Flight Distance\", \"Departure Delay in Minutes\"]]\n",
    "\n",
    "# Create a scaler object.\n",
    "scaler = StandardScaler()\n",
    "\n",
    "# Fit scaler on the selected features.\n",
    "scaler.fit(selected_features)\n",
    "\n",
    "# Transform the selected features with the scaler.\n",
    "selected_features_scaled = scaler.transform(selected_features)\n",
    "\n",
    "# Replace the original columns with the scaled values in the DataFrame\n",
    "X[[\"Age\", \"Flight Distance\", \"Departure Delay in Minutes\"]] = selected_features_scaled\n",
    "\n",
    "X.head()"
   ]
  },
  {
   "cell_type": "markdown",
   "metadata": {},
   "source": [
    "# Modeling"
   ]
  },
  {
   "cell_type": "code",
   "execution_count": 17,
   "metadata": {
    "execution": {
     "iopub.execute_input": "2023-08-26T11:04:41.354138Z",
     "iopub.status.busy": "2023-08-26T11:04:41.353736Z",
     "iopub.status.idle": "2023-08-26T11:04:41.359663Z",
     "shell.execute_reply": "2023-08-26T11:04:41.358566Z",
     "shell.execute_reply.started": "2023-08-26T11:04:41.354104Z"
    }
   },
   "outputs": [],
   "source": [
    "# Define a list of models to evaluate\n",
    "models = [LogisticRegression(max_iter=1000),DecisionTreeClassifier(),RandomForestClassifier()]"
   ]
  },
  {
   "cell_type": "code",
   "execution_count": 18,
   "metadata": {
    "execution": {
     "iopub.execute_input": "2023-08-26T11:04:41.365815Z",
     "iopub.status.busy": "2023-08-26T11:04:41.365419Z",
     "iopub.status.idle": "2023-08-26T11:06:15.608295Z",
     "shell.execute_reply": "2023-08-26T11:06:15.606951Z",
     "shell.execute_reply.started": "2023-08-26T11:04:41.365761Z"
    }
   },
   "outputs": [
    {
     "name": "stdout",
     "output_type": "stream",
     "text": [
      "LogisticRegression: Mean Accuracy = 0.8340968352347101\n",
      "DecisionTreeClassifier: Mean Accuracy = 0.9143825106955485\n",
      "RandomForestClassifier: Mean Accuracy = 0.9416384265648745\n"
     ]
    }
   ],
   "source": [
    "\n",
    "# Split train data into train and test.\n",
    "X_train, X_test, y_train, y_test = train_test_split(X, y, test_size=0.2, random_state=42)\n",
    "\n",
    "# Iterate over each model and evaluate its accuracy using cross-validation.\n",
    "for model in models:\n",
    "    scores = cross_val_score(model, X_train, y_train, cv=5)\n",
    "    \n",
    "    # Print the mean accuracy score for the current model\n",
    "    print(f\"{model.__class__.__name__}: Mean Accuracy = {scores.mean()}\")"
   ]
  },
  {
   "cell_type": "markdown",
   "metadata": {},
   "source": [
    "After evaluating multiple classification models, we found that the Random Forest algorithm demonstrated the best performance based on the mean accuracy metric. Therefore, we selected the Random Forest model to make predictions on our test data."
   ]
  },
  {
   "cell_type": "code",
   "execution_count": 19,
   "metadata": {
    "execution": {
     "iopub.execute_input": "2023-08-26T11:06:15.610663Z",
     "iopub.status.busy": "2023-08-26T11:06:15.610222Z",
     "iopub.status.idle": "2023-08-26T11:06:34.783458Z",
     "shell.execute_reply": "2023-08-26T11:06:34.782173Z",
     "shell.execute_reply.started": "2023-08-26T11:06:15.610628Z"
    }
   },
   "outputs": [
    {
     "name": "stdout",
     "output_type": "stream",
     "text": [
      "Accuracy: 0.944\n"
     ]
    }
   ],
   "source": [
    "# Make tha random forest model with specific best hyperparameters.\n",
    "model = RandomForestClassifier()\n",
    "\n",
    "# Fit the model.\n",
    "model.fit(X_train, y_train)\n",
    "\n",
    "# Predict y-predict.\n",
    "y_pred = model.predict(X_test)\n",
    "\n",
    "# Evaluate the accuracy of y-predict.\n",
    "acc = accuracy_score(y_test, y_pred)\n",
    "print(f\"Accuracy: {acc:.3f}\")"
   ]
  },
  {
   "cell_type": "markdown",
   "metadata": {},
   "source": [
    "### Feature importances"
   ]
  },
  {
   "cell_type": "code",
   "execution_count": 20,
   "metadata": {
    "execution": {
     "iopub.execute_input": "2023-08-26T11:06:34.785446Z",
     "iopub.status.busy": "2023-08-26T11:06:34.785002Z",
     "iopub.status.idle": "2023-08-26T11:06:35.485939Z",
     "shell.execute_reply": "2023-08-26T11:06:35.484841Z",
     "shell.execute_reply.started": "2023-08-26T11:06:34.785412Z"
    }
   },
   "outputs": [
    {
     "data": {
      "image/png": "[encoded data removed]",
      "text/plain": [
       "<Figure size 640x480 with 1 Axes>"
      ]
     },
     "metadata": {},
     "output_type": "display_data"
    }
   ],
   "source": [
    "# Get feature importances\n",
    "feature_importance = model.feature_importances_\n",
    "\n",
    "# Sort feature importance indices\n",
    "sorted_idx = np.argsort(feature_importance)\n",
    "\n",
    "# Retrieve feature names\n",
    "features = X.columns\n",
    "\n",
    "# Plot feature importance\n",
    "plt.figure()\n",
    "plt.barh(range(len(sorted_idx)), feature_importance[sorted_idx], align='center', color='skyblue')\n",
    "plt.yticks(range(len(sorted_idx)), features[sorted_idx])\n",
    "plt.xlabel('Feature Importance')\n",
    "plt.title('Feature Importance')\n",
    "plt.show()\n"
   ]
  }
 ],
 "metadata": {
  "kaggle": {
   "accelerator": "none",
   "dataSources": [
    {
     "datasetId": 562352,
     "sourceId": 1021980,
     "sourceType": "datasetVersion"
    }
   ],
   "dockerImageVersionId": 30527,
   "isGpuEnabled": false,
   "isInternetEnabled": false,
   "language": "python",
   "sourceType": "notebook"
  },
  "kernelspec": {
   "display_name": "Python 3 (ipykernel)",
   "language": "python",
   "name": "python3"
  },
  "language_info": {
   "codemirror_mode": {
    "name": "ipython",
    "version": 3
   },
   "file_extension": ".py",
   "mimetype": "text/x-python",
   "name": "python",
   "nbconvert_exporter": "python",
   "pygments_lexer": "ipython3",
   "version": "3.11.3"
  }
 },
 "nbformat": 4,
 "nbformat_minor": 4
}
